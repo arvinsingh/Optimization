{
 "cells": [
  {
   "cell_type": "code",
   "execution_count": 1,
   "metadata": {},
   "outputs": [],
   "source": [
    "import numpy as np\n",
    "from math import pi, log\n",
    "import matplotlib.pyplot as plt\n",
    "from scipy.stats import truncnorm\n",
    "from scipy.stats import wilcoxon\n",
    "\n",
    "# suppress all warnings\n",
    "import warnings\n",
    "warnings.filterwarnings(\"ignore\")"
   ]
  },
  {
   "cell_type": "markdown",
   "metadata": {},
   "source": [
    "##### Declaring global variables"
   ]
  },
  {
   "cell_type": "code",
   "execution_count": 2,
   "metadata": {},
   "outputs": [],
   "source": [
    "global seed\n",
    "global call_counter\n",
    "call_counter = [0, 0, 0, 0, 0, 0, 0, 0]\n",
    "seed = 42 # To make results repeatable."
   ]
  },
  {
   "cell_type": "markdown",
   "metadata": {},
   "source": [
    "# Defining functions\n",
    "\n",
    "#### Parameters defined through function of decision vector x"
   ]
  },
  {
   "cell_type": "code",
   "execution_count": 3,
   "metadata": {},
   "outputs": [],
   "source": [
    "def W(x):\n",
    "    \"\"\"\n",
    "    Load carrying capacity\n",
    "    \"\"\"\n",
    "    return (pi * P0(x)/2) * ((x[2] ** 2 - x[1] ** 2)/log(x[2]/x[1]))\n",
    "\n",
    "def P0(x):\n",
    "    \"\"\"\n",
    "    Inlet pressure\n",
    "    \"\"\"\n",
    "    return ((6e-6 * x[3] * x[0])/ (pi * h(x) ** 3)) * log(x[2]/x[1])\n",
    "\n",
    "def Ef(x):\n",
    "    \"\"\"\n",
    "    Friction loss\n",
    "    \"\"\"\n",
    "    return 143.308 * dT(x) * x[0]\n",
    "\n",
    "def dT(x):\n",
    "    \"\"\"\n",
    "    Temperature\n",
    "    \"\"\"\n",
    "    return 2 * (10 ** P(x) - 560)\n",
    "\n",
    "def P(x):\n",
    "    \"\"\"\n",
    "    Pressure\n",
    "    \"\"\"\n",
    "    return (log(log(8.122 * x[3] + 0.8, 10), 10) - 10.04) / -3.55\n",
    "\n",
    "def h(x):\n",
    "    \"\"\"\n",
    "    Oil thickness\n",
    "    \"\"\"\n",
    "    return ((1500 * pi) / 60) ** 2 * \\\n",
    "            ((2e-6 * pi * x[3])/ Ef(x)) * \\\n",
    "            ((x[2]**4)/4 - (x[1]**4)/4)\n"
   ]
  },
  {
   "cell_type": "markdown",
   "metadata": {},
   "source": [
    "#### Constraints on the feasible space:"
   ]
  },
  {
   "cell_type": "code",
   "execution_count": 4,
   "metadata": {},
   "outputs": [],
   "source": [
    "def g1(x):\n",
    "    \"\"\"\n",
    "    Weight capacity\n",
    "    \"\"\"\n",
    "    global call_counter\n",
    "    call_counter[1] += 1\n",
    "    return 101000 - W(x)\n",
    "\n",
    "def g2(x):\n",
    "    \"\"\"\n",
    "    Inlet oil pressure\n",
    "    \"\"\"\n",
    "    global call_counter\n",
    "    call_counter[2] += 1\n",
    "    return P0(x) - 1000\n",
    "\n",
    "def g3(x):\n",
    "    \"\"\"\n",
    "    Oil temperature rise\n",
    "    \"\"\"\n",
    "    global call_counter\n",
    "    call_counter[3] += 1\n",
    "    return dT(x) - 50\n",
    "\n",
    "def g4(x):\n",
    "    \"\"\"\n",
    "    Oil film thickness\n",
    "    \"\"\"\n",
    "    global call_counter\n",
    "    call_counter[4] += 1\n",
    "    return 0.001 - h(x)\n",
    "\n",
    "def g5(x):\n",
    "    \"\"\"\n",
    "    Step radius\n",
    "    \"\"\"\n",
    "    global call_counter\n",
    "    call_counter[5] += 1\n",
    "    return x[1] - x[2]\n",
    "\n",
    "def g6(x):\n",
    "    \"\"\"\n",
    "    Limits on significance off exit loss\n",
    "    \"\"\"\n",
    "    global call_counter\n",
    "    call_counter[6] += 1\n",
    "    return ((0.0307 * x[0])/(772.8 * pi * P0(x) * h(x) * x[2])) - 0.001\n",
    "\n",
    "def g7(x):\n",
    "    \"\"\"\n",
    "    Limit for contact pressure;\n",
    "    Must be less than 5000\n",
    "    \"\"\"\n",
    "    global call_counter\n",
    "    call_counter[7] += 1\n",
    "    return (W(x)/(pi * (x[2] ** 2 - x[1] ** 2))) - 5000\n"
   ]
  },
  {
   "cell_type": "markdown",
   "metadata": {},
   "source": [
    "#### Optimization function"
   ]
  },
  {
   "cell_type": "code",
   "execution_count": 5,
   "metadata": {},
   "outputs": [],
   "source": [
    "def f(x):\n",
    "    \"\"\"\n",
    "    Optimization probem: need to minimize this function\n",
    "    \"\"\"\n",
    "    global call_counter\n",
    "    call_counter[0] += 1\n",
    "    return ((P0(x) * x[0])/0.7) + Ef(x)"
   ]
  },
  {
   "cell_type": "code",
   "execution_count": 6,
   "metadata": {},
   "outputs": [],
   "source": [
    "bounds = np.array([[1, 16], \n",
    "                   [1, 16], \n",
    "                   [1, 16], \n",
    "                   [1, 16]])\n",
    "\n",
    "constraints = [g1, g2, g3, g4, g5, g6, g7]"
   ]
  },
  {
   "cell_type": "markdown",
   "metadata": {},
   "source": [
    "### Function Validation"
   ]
  },
  {
   "cell_type": "code",
   "execution_count": 7,
   "metadata": {},
   "outputs": [
    {
     "name": "stdout",
     "output_type": "stream",
     "text": [
      "Objective function output, f(x): -1784.0773507231927\n",
      "Constraint function output, g1(x): 101000.01528759542\n",
      "Constraint function output, g2(x): -1000.0000598304209\n",
      "Constraint function output, g3(x): -52.97118117373543\n",
      "Constraint function output, g4(x): -0.9196377239881502\n",
      "Constraint function output, g5(x): 4.88\n",
      "Constraint function output, g6(x): -0.14477999681964232\n",
      "Constraint function output, g7(x): -4999.999945390436\n"
     ]
    }
   ],
   "source": [
    " def validate():\n",
    "    x = np.array([4.19, 11.57, 6.69, 10.65])\n",
    "    print(f\"Objective function output, f(x): {f(x)}\")\n",
    "    print(f\"Constraint function output, g1(x): {g1(x)}\")\n",
    "    print(f\"Constraint function output, g2(x): {g2(x)}\")\n",
    "    print(f\"Constraint function output, g3(x): {g3(x)}\")\n",
    "    print(f\"Constraint function output, g4(x): {g4(x)}\")\n",
    "    print(f\"Constraint function output, g5(x): {g5(x)}\")\n",
    "    print(f\"Constraint function output, g6(x): {g6(x)}\")\n",
    "    print(f\"Constraint function output, g7(x): {g7(x)}\")\n",
    "\n",
    "validate()"
   ]
  },
  {
   "cell_type": "markdown",
   "metadata": {},
   "source": [
    "#### Penalty functions"
   ]
  },
  {
   "cell_type": "code",
   "execution_count": 8,
   "metadata": {},
   "outputs": [],
   "source": [
    "def static_penalty(x, function, constraints, r=5, beta=2):\n",
    "    \"\"\"\n",
    "    Static Penalty function.\n",
    "    \"\"\"\n",
    "    \n",
    "    s = int(sum([(r * max(0, g(x)) ** beta) for g in constraints]))\n",
    "\n",
    "    return function(x) + s"
   ]
  },
  {
   "cell_type": "code",
   "execution_count": 9,
   "metadata": {},
   "outputs": [],
   "source": [
    "def phi_death(x, function, constraints, inf=np.inf):\n",
    "    \"\"\"\n",
    "    Death Penalty function.\n",
    "    \"\"\"\n",
    "    \n",
    "    constraint_handling = all([1 if g(x) <= 0 else 0 for g in constraints])\n",
    "    \n",
    "    if constraint_handling:\n",
    "        return function(x)\n",
    "    else:\n",
    "        return inf"
   ]
  },
  {
   "cell_type": "markdown",
   "metadata": {},
   "source": [
    "# Random Search"
   ]
  },
  {
   "cell_type": "code",
   "execution_count": 10,
   "metadata": {},
   "outputs": [],
   "source": [
    "def random_search(function, constraints, bounds, penalty=None, minimize=True, max_eval=10000, seed=seed):\n",
    "    \"\"\"\n",
    "    Generalized Random Search implementation\n",
    "    \n",
    "    \"\"\"\n",
    "    \n",
    "    np.random.seed(seed)\n",
    "    x_best = np.random.uniform(bounds[:, 0], bounds[:, 1])\n",
    "    \n",
    "    # check if penalty function is given\n",
    "    if penalty is None:\n",
    "        y_best = function(x_best)\n",
    "    else:\n",
    "        y_best = penalty(x_best, function, constraints)\n",
    "    \n",
    "    for _ in range(max_eval):\n",
    "        \n",
    "        x = np.random.uniform(bounds[:, 0], bounds[:, 1])\n",
    "        \n",
    "        if penalty is None:\n",
    "            y = function(x)\n",
    "        else:\n",
    "            y = penalty(x, function, constraints)\n",
    "                    \n",
    "        if minimize and (y_best > y):\n",
    "            x_best = x\n",
    "            y_best = y\n",
    "            \n",
    "        # For Maximization problems\n",
    "        if not minimize and (y_best < y):\n",
    "            x_best = x\n",
    "            y_best = y\n",
    "  \n",
    "    return [x_best, y_best]"
   ]
  },
  {
   "cell_type": "markdown",
   "metadata": {},
   "source": [
    "# Simulated Annealing"
   ]
  },
  {
   "cell_type": "code",
   "execution_count": 11,
   "metadata": {},
   "outputs": [],
   "source": [
    "def truncated_gaussian(mean_vec, lower, upper, sigma=1):\n",
    "    \"\"\"\n",
    "    Generating a random vector from truncated Gaussian\n",
    "    \"\"\"\n",
    "    \n",
    "    rand_vec = np.zeros(mean_vec.shape)\n",
    "    for i in range(len(mean_vec)):\n",
    "        \n",
    "        rand_vec[i] = truncnorm.rvs((lower[i] - mean_vec[i]) / sigma,\n",
    "                                    (upper[i] - mean_vec[i]) / sigma,\n",
    "                                    loc = mean_vec[i], scale=sigma)\n",
    "\n",
    "    return rand_vec"
   ]
  },
  {
   "cell_type": "code",
   "execution_count": 12,
   "metadata": {},
   "outputs": [],
   "source": [
    "def simulated_annealing(function, constraints, bounds, penalty=None, temperature=1000, cooling_rate=0.01, max_eval=10000, sigma=1, seed=seed):\n",
    "    \"\"\"\n",
    "    Generalized Simulated Annealing implementation\n",
    "    \"\"\"\n",
    "    \n",
    "    np.random.seed(seed)\n",
    "    \n",
    "    x_best = np.random.uniform(bounds[:, 0], bounds[:, 1])\n",
    "    \n",
    "    # check if penalty function is given\n",
    "    if penalty is None:\n",
    "        y_best = function(x_best)\n",
    "    else:\n",
    "        y_best = penalty(x_best, function, constraints)\n",
    "\n",
    "    x_c = x_best\n",
    "    y_c = y_best\n",
    "    \n",
    "    for i in range(max_eval):\n",
    "        \n",
    "        x_prime = truncated_gaussian(x_c, bounds[:, 0], bounds[:, 1], sigma=1.5)\n",
    "        \n",
    "        if penalty is None:\n",
    "            y_prime = function(x_prime)\n",
    "        else:\n",
    "            y_prime = penalty(x_prime, function, constraints)\n",
    "        \n",
    "        dy = y_prime - y_c\n",
    "        \n",
    "        if temperature == 0:\n",
    "            decay = np.inf\n",
    "        else:\n",
    "            decay = np.exp(-dy/temperature)\n",
    "\n",
    "        if (dy <= 0) or (np.random.uniform(0,1) < min(decay, 1)):\n",
    "            x_c, y_c = x_prime, y_prime\n",
    "        \n",
    "        if y_prime < y_best:\n",
    "            x_best, y_best = x_prime, y_prime\n",
    "        temperature *= cooling_rate\n",
    "    \n",
    "    return [x_best, y_best]"
   ]
  },
  {
   "cell_type": "markdown",
   "metadata": {},
   "source": [
    "### Generalized Optimization run function"
   ]
  },
  {
   "cell_type": "code",
   "execution_count": 13,
   "metadata": {},
   "outputs": [],
   "source": [
    "def optimization_run(function, constraints, bounds, \n",
    "                     strategy='rc', penalty='static', iterations=1000, \n",
    "                     temperature=1000, cooling_rate=0.01, sigma=1,\n",
    "                     minimize=True, seed=seed):\n",
    "    \n",
    "    if penalty is \"static\":\n",
    "        penalty_func = static_penalty\n",
    "    \n",
    "    if penalty is \"death\":\n",
    "        penalty_func = phi_death\n",
    "    \n",
    "    if strategy is \"rs\":\n",
    "        return random_search(function,\n",
    "                             constraints,\n",
    "                             bounds=bounds,\n",
    "                             penalty=penalty_func,\n",
    "                             minimize=minimize,\n",
    "                             max_eval=10000,\n",
    "                             seed=seed\n",
    "                            )\n",
    "        \n",
    "    if strategy is \"sa\":\n",
    "        return simulated_annealing(function,\n",
    "                                   constraints,\n",
    "                                   bounds=bounds, \n",
    "                                   penalty=penalty_func,\n",
    "                                   temperature=1000, \n",
    "                                   cooling_rate=0.01, \n",
    "                                   max_eval=10000, \n",
    "                                   sigma=1, \n",
    "                                   seed=seed\n",
    "                                  )"
   ]
  },
  {
   "cell_type": "markdown",
   "metadata": {},
   "source": [
    "# Performance evaluation"
   ]
  },
  {
   "cell_type": "code",
   "execution_count": 14,
   "metadata": {},
   "outputs": [],
   "source": [
    " def optimization_eval(rs_func, sa_func, itr=21):\n",
    "    \"\"\"\n",
    "    Runs and compares Random Search & Simulated Annealing for \n",
    "    N number of loops\n",
    "    \n",
    "    PARAMETERS: \n",
    "    rs_func Random Search function\n",
    "    sa_func Simulated Annealing function\n",
    "    itr Number of interations to perform\n",
    "    \n",
    "    RETURNS: lists of optimum results from RS and SA runs.\n",
    "    \"\"\"\n",
    "    \n",
    "    global seed\n",
    "    \n",
    "    np.random.seed(seed)\n",
    "    seeds = np.random.randint(1, 100000, size=(itr,))\n",
    "      \n",
    "    rs = list()\n",
    "    sa = list()\n",
    "\n",
    "    print(f\"Comparison of best solutions: \\n\")\n",
    "    for i in range(itr):\n",
    "\n",
    "        rs.append(rs_func(seeds[i]))\n",
    "        sa.append(sa_func(seeds[i]))\n",
    "\n",
    "        print(f\"Iteration {i+1}, Seed - {seeds[i]}, \\n Best solution from:\\n Random Search -\\\n",
    "        {rs[i][1]} \\n Simulated Annealing - {sa[i][1]}\\n\")\n",
    "    \n",
    "    return rs, sa"
   ]
  },
  {
   "cell_type": "code",
   "execution_count": 15,
   "metadata": {},
   "outputs": [],
   "source": [
    "def eval_report(data_rs, data_sa):\n",
    "    \"\"\"\n",
    "    Takes in objective function optimums from the n-runs done\n",
    "    on Random Search and Simulated Annealing.\n",
    "    Prints a report of mean, median, standard deviation, p-value\n",
    "    with alpha chosen as 0.05\n",
    "    \"\"\"\n",
    "    \n",
    "    # Compute mean of the 21 iterations of random search and simualte annealing\n",
    "    print(\"Statistically Analysis:\")\n",
    "    print(\"With Static penalty\\n\")\n",
    "    print(f\"Mean of Random Search: {np.mean(data_rs)}\")\n",
    "    print(f\"Mean of Simulated Annealing: {np.mean(data_sa)}\\n\")\n",
    "\n",
    "    # Compute median of the two strategies\n",
    "    print(f\"Median of Random Search: {np.median(data_rs)}\")\n",
    "    print(f\"Median of Simulated Annealing: {np.median(data_sa)}\\n\")\n",
    "\n",
    "    # Compute Standard deviation\n",
    "    print(f\"Standard Deviation of Random Search: {np.std(data_rs)}\")\n",
    "    print(f\"Standard Deviation of Simulated Annealing: {np.std(data_sa)}\\n\")\n",
    "\n",
    "    # Perform the Wilcoxon signed-rank test\n",
    "    statistic, p_value = wilcoxon(data_rs, data_sa)\n",
    "\n",
    "    print(\"Wilcoxon Signed-Rank Test:\")\n",
    "    print(f\"Test Statistic: {statistic}\")\n",
    "    print(f\"P-value: {p_value}\")\n",
    "\n",
    "    alpha = 0.05\n",
    "\n",
    "    if p_value < alpha:\n",
    "        print(\"There is a significant difference between the algorithms.\")\n",
    "    else:\n",
    "        print(\"There is no significant difference between the algorithms.\")"
   ]
  },
  {
   "cell_type": "markdown",
   "metadata": {},
   "source": [
    "### Wrapper functions for the defined problem\n",
    "\n",
    "#### With Static penalty"
   ]
  },
  {
   "cell_type": "code",
   "execution_count": 16,
   "metadata": {},
   "outputs": [],
   "source": [
    "def rs_wrapper(seed, function=f, constraints=constraints, bounds=bounds):\n",
    "    return optimization_run(function, constraints, \n",
    "                            bounds, \"rs\", \"static\", \n",
    "                            10000, minimize=True,\n",
    "                            seed=seed\n",
    "                           )"
   ]
  },
  {
   "cell_type": "code",
   "execution_count": 17,
   "metadata": {},
   "outputs": [],
   "source": [
    "def sa_wrapper(seed, function=f, constraints=constraints, bounds=bounds):\n",
    "    return optimization_run(function, constraints, \n",
    "                            bounds, \"sa\", \"static\",\n",
    "                            10000, 1000, 0.01, 1.5, \n",
    "                            seed=seed\n",
    "                           )"
   ]
  },
  {
   "cell_type": "code",
   "execution_count": 18,
   "metadata": {},
   "outputs": [
    {
     "name": "stdout",
     "output_type": "stream",
     "text": [
      "Comparison of best solutions: \n",
      "\n",
      "Iteration 1, Seed - 15796, \n",
      " Best solution from:\n",
      " Random Search -       23361.113496826394 \n",
      " Simulated Annealing - 24161.742812404445\n",
      "\n",
      "Iteration 2, Seed - 861, \n",
      " Best solution from:\n",
      " Random Search -       26019.55245219363 \n",
      " Simulated Annealing - 27916.802213466464\n",
      "\n",
      "Iteration 3, Seed - 76821, \n",
      " Best solution from:\n",
      " Random Search -       35223.53742945257 \n",
      " Simulated Annealing - 35594.16052436729\n",
      "\n",
      "Iteration 4, Seed - 54887, \n",
      " Best solution from:\n",
      " Random Search -       4336.670796245673 \n",
      " Simulated Annealing - 17935.506220307656\n",
      "\n",
      "Iteration 5, Seed - 6266, \n",
      " Best solution from:\n",
      " Random Search -       13698.306848075565 \n",
      " Simulated Annealing - 12063.51574883925\n",
      "\n",
      "Iteration 6, Seed - 82387, \n",
      " Best solution from:\n",
      " Random Search -       13420.813853802676 \n",
      " Simulated Annealing - 11436.642516597123\n",
      "\n",
      "Iteration 7, Seed - 37195, \n",
      " Best solution from:\n",
      " Random Search -       27003.098978805232 \n",
      " Simulated Annealing - 28460.35735327427\n",
      "\n",
      "Iteration 8, Seed - 87499, \n",
      " Best solution from:\n",
      " Random Search -       35980.70752866248 \n",
      " Simulated Annealing - 19256.950210774972\n",
      "\n",
      "Iteration 9, Seed - 44132, \n",
      " Best solution from:\n",
      " Random Search -       35914.9944797927 \n",
      " Simulated Annealing - 26490.072573627913\n",
      "\n",
      "Iteration 10, Seed - 60264, \n",
      " Best solution from:\n",
      " Random Search -       38393.96990310521 \n",
      " Simulated Annealing - 11599.853935086083\n",
      "\n",
      "Iteration 11, Seed - 16024, \n",
      " Best solution from:\n",
      " Random Search -       21794.01511197165 \n",
      " Simulated Annealing - 25155.680233977895\n",
      "\n",
      "Iteration 12, Seed - 41091, \n",
      " Best solution from:\n",
      " Random Search -       21457.824351039733 \n",
      " Simulated Annealing - 16329.461596854684\n",
      "\n",
      "Iteration 13, Seed - 67222, \n",
      " Best solution from:\n",
      " Random Search -       28321.90568014231 \n",
      " Simulated Annealing - 24252.08551778939\n",
      "\n",
      "Iteration 14, Seed - 64821, \n",
      " Best solution from:\n",
      " Random Search -       29105.643384412757 \n",
      " Simulated Annealing - 27709.948819598612\n",
      "\n",
      "Iteration 15, Seed - 770, \n",
      " Best solution from:\n",
      " Random Search -       28682.047188744993 \n",
      " Simulated Annealing - 16393.578612915546\n",
      "\n",
      "Iteration 16, Seed - 59736, \n",
      " Best solution from:\n",
      " Random Search -       24503.27176814718 \n",
      " Simulated Annealing - 26905.53626245635\n",
      "\n",
      "Iteration 17, Seed - 62956, \n",
      " Best solution from:\n",
      " Random Search -       4325.735820220838 \n",
      " Simulated Annealing - 29005.260864479245\n",
      "\n",
      "Iteration 18, Seed - 64926, \n",
      " Best solution from:\n",
      " Random Search -       28114.105642182098 \n",
      " Simulated Annealing - 30737.942699210507\n",
      "\n",
      "Iteration 19, Seed - 67970, \n",
      " Best solution from:\n",
      " Random Search -       43782.27071759015 \n",
      " Simulated Annealing - 12999.323996167124\n",
      "\n",
      "Iteration 20, Seed - 5312, \n",
      " Best solution from:\n",
      " Random Search -       41670.72846285809 \n",
      " Simulated Annealing - 16140.717693499217\n",
      "\n",
      "Iteration 21, Seed - 83105, \n",
      " Best solution from:\n",
      " Random Search -       32584.761829622832 \n",
      " Simulated Annealing - 32618.676069803467\n",
      "\n"
     ]
    }
   ],
   "source": [
    "rs_results, sa_results = optimization_eval(rs_wrapper, sa_wrapper, 21)"
   ]
  },
  {
   "cell_type": "markdown",
   "metadata": {},
   "source": [
    "#### Box plot showing performances of the competing optimisers over 21 repetitions:"
   ]
  },
  {
   "cell_type": "code",
   "execution_count": 19,
   "metadata": {},
   "outputs": [
    {
     "data": {
      "image/png": "[encoded data removed]",
      "text/plain": [
       "<Figure size 720x504 with 1 Axes>"
      ]
     },
     "metadata": {
      "needs_background": "light"
     },
     "output_type": "display_data"
    }
   ],
   "source": [
    "data_rs = [x[1] for x in rs_results]\n",
    "data_sa = [x[1] for x in sa_results]\n",
    "\n",
    "data = [data_rs, data_sa]\n",
    "labels = [\"Random Search\", \"Simulated Annealing\"]\n",
    "\n",
    "fig = plt.figure(figsize =(10, 7))\n",
    "\n",
    "# Creating axes instance\n",
    "ax = fig.add_axes([0, 0, 1, 1])\n",
    "plt.title('Performance Comparison with static penalty')\n",
    "plt.ylabel('Objective Function Value')\n",
    "\n",
    "# Creating plot\n",
    "bp = ax.boxplot(data, labels=labels)\n",
    "\n",
    "\n",
    "# show plot\n",
    "plt.show()"
   ]
  },
  {
   "cell_type": "code",
   "execution_count": 20,
   "metadata": {},
   "outputs": [
    {
     "name": "stdout",
     "output_type": "stream",
     "text": [
      "Statistically Analysis:\n",
      "With Static penalty\n",
      "\n",
      "Mean of Random Search: 26556.908367804514\n",
      "Mean of Simulated Annealing: 22531.610308357023\n",
      "\n",
      "Mean of Random Search: 28114.105642182098\n",
      "Mean of Simulated Annealing: 24252.08551778939\n",
      "\n",
      "Standard Deviation of Random Search: 10598.978066208032\n",
      "Standard Deviation of Simulated Annealing: 7276.121078300028\n",
      "\n",
      "Wilcoxon Signed-Rank Test:\n",
      "Test Statistic: 82.0\n",
      "P-value: 0.2442695329700293\n",
      "There is no significant difference between the algorithms.\n"
     ]
    }
   ],
   "source": [
    "eval_report(data_rs, data_sa)"
   ]
  },
  {
   "cell_type": "markdown",
   "metadata": {},
   "source": [
    "#### With Death penalty"
   ]
  },
  {
   "cell_type": "code",
   "execution_count": 21,
   "metadata": {},
   "outputs": [],
   "source": [
    "def rs_death_wrapper(seed, function=f, constraints=constraints, bounds=bounds):\n",
    "    return optimization_run(function, constraints, \n",
    "                            bounds, \"rs\", \"death\", \n",
    "                            10000, minimize=True,\n",
    "                            seed=seed\n",
    "                           )"
   ]
  },
  {
   "cell_type": "code",
   "execution_count": 22,
   "metadata": {},
   "outputs": [],
   "source": [
    "def sa_death_wrapper(seed, function=f, constraints=constraints, bounds=bounds):\n",
    "    return optimization_run(function, constraints, \n",
    "                            bounds, \"sa\", \"death\",\n",
    "                            10000, 1000, 0.01, 1.5, \n",
    "                            seed=seed\n",
    "                           )"
   ]
  },
  {
   "cell_type": "code",
   "execution_count": 23,
   "metadata": {},
   "outputs": [
    {
     "name": "stdout",
     "output_type": "stream",
     "text": [
      "Comparison of best solutions: \n",
      "\n",
      "Iteration 1, Seed - 15796, \n",
      " Best solution from:\n",
      " Random Search -       52847.176724968114 \n",
      " Simulated Annealing - 37450.92099600154\n",
      "\n",
      "Iteration 2, Seed - 861, \n",
      " Best solution from:\n",
      " Random Search -       65850.73389683981 \n",
      " Simulated Annealing - 36938.8268391372\n",
      "\n",
      "Iteration 3, Seed - 76821, \n",
      " Best solution from:\n",
      " Random Search -       54540.64058866362 \n",
      " Simulated Annealing - 44297.40479913803\n",
      "\n",
      "Iteration 4, Seed - 54887, \n",
      " Best solution from:\n",
      " Random Search -       39277.929053770975 \n",
      " Simulated Annealing - 52048.94399077978\n",
      "\n",
      "Iteration 5, Seed - 6266, \n",
      " Best solution from:\n",
      " Random Search -       50573.94178641172 \n",
      " Simulated Annealing - 58501.93001364604\n",
      "\n",
      "Iteration 6, Seed - 82387, \n",
      " Best solution from:\n",
      " Random Search -       55245.6852371477 \n",
      " Simulated Annealing - 35493.981613520365\n",
      "\n",
      "Iteration 7, Seed - 37195, \n",
      " Best solution from:\n",
      " Random Search -       50965.113742296366 \n",
      " Simulated Annealing - 35507.02983706356\n",
      "\n",
      "Iteration 8, Seed - 87499, \n",
      " Best solution from:\n",
      " Random Search -       46069.0005921803 \n",
      " Simulated Annealing - 31362.08987502961\n",
      "\n",
      "Iteration 9, Seed - 44132, \n",
      " Best solution from:\n",
      " Random Search -       74542.41317293058 \n",
      " Simulated Annealing - 43819.590944453346\n",
      "\n",
      "Iteration 10, Seed - 60264, \n",
      " Best solution from:\n",
      " Random Search -       45773.55758102904 \n",
      " Simulated Annealing - 42622.703423226245\n",
      "\n",
      "Iteration 11, Seed - 16024, \n",
      " Best solution from:\n",
      " Random Search -       45218.907294061006 \n",
      " Simulated Annealing - 46528.830804235564\n",
      "\n",
      "Iteration 12, Seed - 41091, \n",
      " Best solution from:\n",
      " Random Search -       47378.58731808896 \n",
      " Simulated Annealing - 46115.82554437265\n",
      "\n",
      "Iteration 13, Seed - 67222, \n",
      " Best solution from:\n",
      " Random Search -       28321.90568014231 \n",
      " Simulated Annealing - 37698.39833603516\n",
      "\n",
      "Iteration 14, Seed - 64821, \n",
      " Best solution from:\n",
      " Random Search -       29105.643384412757 \n",
      " Simulated Annealing - 43018.56734621192\n",
      "\n",
      "Iteration 15, Seed - 770, \n",
      " Best solution from:\n",
      " Random Search -       50327.7368666445 \n",
      " Simulated Annealing - 35996.05958952775\n",
      "\n",
      "Iteration 16, Seed - 59736, \n",
      " Best solution from:\n",
      " Random Search -       53601.462665679195 \n",
      " Simulated Annealing - 33608.00441846337\n",
      "\n",
      "Iteration 17, Seed - 62956, \n",
      " Best solution from:\n",
      " Random Search -       57427.37885911072 \n",
      " Simulated Annealing - 49772.54645452317\n",
      "\n",
      "Iteration 18, Seed - 64926, \n",
      " Best solution from:\n",
      " Random Search -       41979.05739246685 \n",
      " Simulated Annealing - 44473.27543355065\n",
      "\n",
      "Iteration 19, Seed - 67970, \n",
      " Best solution from:\n",
      " Random Search -       51044.45287206382 \n",
      " Simulated Annealing - 49159.75146665495\n",
      "\n",
      "Iteration 20, Seed - 5312, \n",
      " Best solution from:\n",
      " Random Search -       59344.2920335504 \n",
      " Simulated Annealing - 32170.68996474635\n",
      "\n",
      "Iteration 21, Seed - 83105, \n",
      " Best solution from:\n",
      " Random Search -       62387.23178660956 \n",
      " Simulated Annealing - 30901.668617139858\n",
      "\n"
     ]
    }
   ],
   "source": [
    "rs_d_results, sa_d_results =  optimization_eval(rs_death_wrapper, sa_death_wrapper, 21)"
   ]
  },
  {
   "cell_type": "code",
   "execution_count": 24,
   "metadata": {},
   "outputs": [
    {
     "data": {
      "image/png": "[encoded data removed]",
      "text/plain": [
       "<Figure size 720x504 with 1 Axes>"
      ]
     },
     "metadata": {
      "needs_background": "light"
     },
     "output_type": "display_data"
    }
   ],
   "source": [
    "data_d_rs = [x[1] for x in rs_d_results]\n",
    "data_d_sa = [x[1] for x in sa_d_results]\n",
    "\n",
    "data_d = [data_d_rs, data_d_sa]\n",
    "labels_d = [\"Random Search\", \"Simulated Annealing\"]\n",
    "\n",
    "fig1 = plt.figure(figsize =(10, 7))\n",
    "\n",
    "# Creating axes instance\n",
    "ax1 = fig1.add_axes([0, 0, 1, 1])\n",
    "plt.title('Performance Comparison With death penalty')\n",
    "plt.ylabel('Objective Function Value')\n",
    "\n",
    "# Creating plot\n",
    "bp1 = ax1.boxplot(data_d, labels=labels_d)\n",
    "\n",
    "\n",
    "# show plot\n",
    "plt.show()"
   ]
  },
  {
   "cell_type": "code",
   "execution_count": 25,
   "metadata": {},
   "outputs": [
    {
     "name": "stdout",
     "output_type": "stream",
     "text": [
      "Statistically Analysis:\n",
      "With Static penalty\n",
      "\n",
      "Mean of Random Search: 50562.9927870985\n",
      "Mean of Simulated Annealing: 41308.90668130748\n",
      "\n",
      "Mean of Random Search: 50965.113742296366\n",
      "Mean of Simulated Annealing: 42622.703423226245\n",
      "\n",
      "Standard Deviation of Random Search: 10608.563656612498\n",
      "Standard Deviation of Simulated Annealing: 7293.98951127344\n",
      "\n",
      "Wilcoxon Signed-Rank Test:\n",
      "Test Statistic: 42.0\n",
      "P-value: 0.010628323936509337\n",
      "There is a significant difference between the algorithms.\n"
     ]
    }
   ],
   "source": [
    "eval_report(data_d_rs, data_d_sa)"
   ]
  },
  {
   "cell_type": "markdown",
   "metadata": {},
   "source": [
    "---"
   ]
  },
  {
   "cell_type": "markdown",
   "metadata": {},
   "source": [
    "# **Comments and Conclusion**\n",
    "\n",
    "The p-value obtained from the Wilcoxon signed-rank test for comparing Random Search and Simulated Annealing was found to be **0.010628** with Death penalty.\n",
    "\n",
    "As this p-value is below the commonly chosen significance level, alpha, of 0.05, **we reject the null hypothesis** and conclude that there is a statistically significant difference in the performance of the two algorithms. This provides evidence to support the assertion that one algorithm outperforms the other in the context of the tested optimization problem.\n",
    "\n",
    "Random Search has greater variability about the mean compared to that of Simulated Annealing, indicating a greater range of outcomes. This difference in variability has implications for the robustness and stability of the algorithms under consideration.\n",
    "\n",
    "From the box plot and calculated mean, median & SD it can be safely concluded that Simulated Annealing is the better optimization strategy for the given problem.\n",
    "\n",
    "\n",
    "\n",
    "**In Conclusion:**\n",
    "\n",
    "Clearly, Simulated Annealing is the better optimization technique in the given context.\n",
    "\n",
    "Although it takes more time to run than Random Search, it is self-evident from the statistical analysis of the results that Simulated Annealing reaches the optimum more reliably and consistently than Random Search.\n",
    "\n",
    "---\n",
    "Comment on constraint handling techniques chosen:\n",
    "\n",
    "With Death penalty, p-value is less than alpha and therefore we can reject the null hypothesis. However, with Static penalty, p-value is above alpha, while it is not conclusive in itself, from the complete statistical analysis, it is clear that Simulated Annealing is more stable with less variability."
   ]
  },
  {
   "cell_type": "markdown",
   "metadata": {},
   "source": [
    "#### NOTE: Something is not right, feasible space is too small, it's better to use static penalty and indeed it should give better results.\n",
    "I have made some obvious mistakes here."
   ]
  }
 ],
 "metadata": {
  "kernelspec": {
   "display_name": "Python 3",
   "language": "python",
   "name": "python3"
  },
  "language_info": {
   "codemirror_mode": {
    "name": "ipython",
    "version": 3
   },
   "file_extension": ".py",
   "mimetype": "text/x-python",
   "name": "python",
   "nbconvert_exporter": "python",
   "pygments_lexer": "ipython3",
   "version": "3.7.6"
  }
 },
 "nbformat": 4,
 "nbformat_minor": 4
}
